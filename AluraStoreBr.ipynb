{
  "nbformat": 4,
  "nbformat_minor": 0,
  "metadata": {
    "colab": {
      "provenance": []
    },
    "kernelspec": {
      "name": "python3",
      "display_name": "Python 3"
    },
    "language_info": {
      "name": "python"
    }
  },
  "cells": [
    {
      "cell_type": "markdown",
      "source": [
        "### Importação dos dados\n",
        "\n"
      ],
      "metadata": {
        "id": "RhEdWd9YUR6H"
      }
    },
    {
      "cell_type": "code",
      "execution_count": 26,
      "metadata": {
        "colab": {
          "base_uri": "https://localhost:8080/",
          "height": 293
        },
        "id": "T3EvaeQ_INIL",
        "outputId": "7ea3030f-9683-43a3-8379-0bab8d0d0f62"
      },
      "outputs": [
        {
          "output_type": "execute_result",
          "data": {
            "text/plain": [
              "                 Produto Categoria do Produto    Preço      Frete  \\\n",
              "0     Assistente virtual          eletronicos   219.08   9.249790   \n",
              "1         Mesa de jantar               moveis   256.35  11.234305   \n",
              "2      Jogo de tabuleiro           brinquedos   279.51  21.262681   \n",
              "3            Micro-ondas     eletrodomesticos  1009.99  54.667344   \n",
              "4  Cadeira de escritório               moveis   446.99  26.964689   \n",
              "\n",
              "  Data da Compra        Vendedor Local da compra  Avaliação da compra  \\\n",
              "0     16/01/2021     Pedro Gomes              SP                    4   \n",
              "1     18/05/2022  Beatriz Moraes              RJ                    1   \n",
              "2     15/03/2021      João Souza              DF                    1   \n",
              "3     03/05/2022      João Souza              RS                    4   \n",
              "4     07/11/2020   Larissa Alves              MG                    5   \n",
              "\n",
              "  Tipo de pagamento  Quantidade de parcelas    lat    lon  \n",
              "0    cartao_credito                       8 -22.19 -48.79  \n",
              "1    cartao_credito                       4 -22.25 -42.66  \n",
              "2    cartao_credito                       1 -15.83 -47.86  \n",
              "3            boleto                       1 -30.17 -53.50  \n",
              "4            boleto                       1 -18.10 -44.38  "
            ],
            "text/html": [
              "\n",
              "  <div id=\"df-8c77bf9b-5d19-4f6d-a59e-ecd87083e275\" class=\"colab-df-container\">\n",
              "    <div>\n",
              "<style scoped>\n",
              "    .dataframe tbody tr th:only-of-type {\n",
              "        vertical-align: middle;\n",
              "    }\n",
              "\n",
              "    .dataframe tbody tr th {\n",
              "        vertical-align: top;\n",
              "    }\n",
              "\n",
              "    .dataframe thead th {\n",
              "        text-align: right;\n",
              "    }\n",
              "</style>\n",
              "<table border=\"1\" class=\"dataframe\">\n",
              "  <thead>\n",
              "    <tr style=\"text-align: right;\">\n",
              "      <th></th>\n",
              "      <th>Produto</th>\n",
              "      <th>Categoria do Produto</th>\n",
              "      <th>Preço</th>\n",
              "      <th>Frete</th>\n",
              "      <th>Data da Compra</th>\n",
              "      <th>Vendedor</th>\n",
              "      <th>Local da compra</th>\n",
              "      <th>Avaliação da compra</th>\n",
              "      <th>Tipo de pagamento</th>\n",
              "      <th>Quantidade de parcelas</th>\n",
              "      <th>lat</th>\n",
              "      <th>lon</th>\n",
              "    </tr>\n",
              "  </thead>\n",
              "  <tbody>\n",
              "    <tr>\n",
              "      <th>0</th>\n",
              "      <td>Assistente virtual</td>\n",
              "      <td>eletronicos</td>\n",
              "      <td>219.08</td>\n",
              "      <td>9.249790</td>\n",
              "      <td>16/01/2021</td>\n",
              "      <td>Pedro Gomes</td>\n",
              "      <td>SP</td>\n",
              "      <td>4</td>\n",
              "      <td>cartao_credito</td>\n",
              "      <td>8</td>\n",
              "      <td>-22.19</td>\n",
              "      <td>-48.79</td>\n",
              "    </tr>\n",
              "    <tr>\n",
              "      <th>1</th>\n",
              "      <td>Mesa de jantar</td>\n",
              "      <td>moveis</td>\n",
              "      <td>256.35</td>\n",
              "      <td>11.234305</td>\n",
              "      <td>18/05/2022</td>\n",
              "      <td>Beatriz Moraes</td>\n",
              "      <td>RJ</td>\n",
              "      <td>1</td>\n",
              "      <td>cartao_credito</td>\n",
              "      <td>4</td>\n",
              "      <td>-22.25</td>\n",
              "      <td>-42.66</td>\n",
              "    </tr>\n",
              "    <tr>\n",
              "      <th>2</th>\n",
              "      <td>Jogo de tabuleiro</td>\n",
              "      <td>brinquedos</td>\n",
              "      <td>279.51</td>\n",
              "      <td>21.262681</td>\n",
              "      <td>15/03/2021</td>\n",
              "      <td>João Souza</td>\n",
              "      <td>DF</td>\n",
              "      <td>1</td>\n",
              "      <td>cartao_credito</td>\n",
              "      <td>1</td>\n",
              "      <td>-15.83</td>\n",
              "      <td>-47.86</td>\n",
              "    </tr>\n",
              "    <tr>\n",
              "      <th>3</th>\n",
              "      <td>Micro-ondas</td>\n",
              "      <td>eletrodomesticos</td>\n",
              "      <td>1009.99</td>\n",
              "      <td>54.667344</td>\n",
              "      <td>03/05/2022</td>\n",
              "      <td>João Souza</td>\n",
              "      <td>RS</td>\n",
              "      <td>4</td>\n",
              "      <td>boleto</td>\n",
              "      <td>1</td>\n",
              "      <td>-30.17</td>\n",
              "      <td>-53.50</td>\n",
              "    </tr>\n",
              "    <tr>\n",
              "      <th>4</th>\n",
              "      <td>Cadeira de escritório</td>\n",
              "      <td>moveis</td>\n",
              "      <td>446.99</td>\n",
              "      <td>26.964689</td>\n",
              "      <td>07/11/2020</td>\n",
              "      <td>Larissa Alves</td>\n",
              "      <td>MG</td>\n",
              "      <td>5</td>\n",
              "      <td>boleto</td>\n",
              "      <td>1</td>\n",
              "      <td>-18.10</td>\n",
              "      <td>-44.38</td>\n",
              "    </tr>\n",
              "  </tbody>\n",
              "</table>\n",
              "</div>\n",
              "    <div class=\"colab-df-buttons\">\n",
              "\n",
              "  <div class=\"colab-df-container\">\n",
              "    <button class=\"colab-df-convert\" onclick=\"convertToInteractive('df-8c77bf9b-5d19-4f6d-a59e-ecd87083e275')\"\n",
              "            title=\"Convert this dataframe to an interactive table.\"\n",
              "            style=\"display:none;\">\n",
              "\n",
              "  <svg xmlns=\"http://www.w3.org/2000/svg\" height=\"24px\" viewBox=\"0 -960 960 960\">\n",
              "    <path d=\"M120-120v-720h720v720H120Zm60-500h600v-160H180v160Zm220 220h160v-160H400v160Zm0 220h160v-160H400v160ZM180-400h160v-160H180v160Zm440 0h160v-160H620v160ZM180-180h160v-160H180v160Zm440 0h160v-160H620v160Z\"/>\n",
              "  </svg>\n",
              "    </button>\n",
              "\n",
              "  <style>\n",
              "    .colab-df-container {\n",
              "      display:flex;\n",
              "      gap: 12px;\n",
              "    }\n",
              "\n",
              "    .colab-df-convert {\n",
              "      background-color: #E8F0FE;\n",
              "      border: none;\n",
              "      border-radius: 50%;\n",
              "      cursor: pointer;\n",
              "      display: none;\n",
              "      fill: #1967D2;\n",
              "      height: 32px;\n",
              "      padding: 0 0 0 0;\n",
              "      width: 32px;\n",
              "    }\n",
              "\n",
              "    .colab-df-convert:hover {\n",
              "      background-color: #E2EBFA;\n",
              "      box-shadow: 0px 1px 2px rgba(60, 64, 67, 0.3), 0px 1px 3px 1px rgba(60, 64, 67, 0.15);\n",
              "      fill: #174EA6;\n",
              "    }\n",
              "\n",
              "    .colab-df-buttons div {\n",
              "      margin-bottom: 4px;\n",
              "    }\n",
              "\n",
              "    [theme=dark] .colab-df-convert {\n",
              "      background-color: #3B4455;\n",
              "      fill: #D2E3FC;\n",
              "    }\n",
              "\n",
              "    [theme=dark] .colab-df-convert:hover {\n",
              "      background-color: #434B5C;\n",
              "      box-shadow: 0px 1px 3px 1px rgba(0, 0, 0, 0.15);\n",
              "      filter: drop-shadow(0px 1px 2px rgba(0, 0, 0, 0.3));\n",
              "      fill: #FFFFFF;\n",
              "    }\n",
              "  </style>\n",
              "\n",
              "    <script>\n",
              "      const buttonEl =\n",
              "        document.querySelector('#df-8c77bf9b-5d19-4f6d-a59e-ecd87083e275 button.colab-df-convert');\n",
              "      buttonEl.style.display =\n",
              "        google.colab.kernel.accessAllowed ? 'block' : 'none';\n",
              "\n",
              "      async function convertToInteractive(key) {\n",
              "        const element = document.querySelector('#df-8c77bf9b-5d19-4f6d-a59e-ecd87083e275');\n",
              "        const dataTable =\n",
              "          await google.colab.kernel.invokeFunction('convertToInteractive',\n",
              "                                                    [key], {});\n",
              "        if (!dataTable) return;\n",
              "\n",
              "        const docLinkHtml = 'Like what you see? Visit the ' +\n",
              "          '<a target=\"_blank\" href=https://colab.research.google.com/notebooks/data_table.ipynb>data table notebook</a>'\n",
              "          + ' to learn more about interactive tables.';\n",
              "        element.innerHTML = '';\n",
              "        dataTable['output_type'] = 'display_data';\n",
              "        await google.colab.output.renderOutput(dataTable, element);\n",
              "        const docLink = document.createElement('div');\n",
              "        docLink.innerHTML = docLinkHtml;\n",
              "        element.appendChild(docLink);\n",
              "      }\n",
              "    </script>\n",
              "  </div>\n",
              "\n",
              "\n",
              "    <div id=\"df-c0cdad0e-c880-459f-b2f5-92e80136041c\">\n",
              "      <button class=\"colab-df-quickchart\" onclick=\"quickchart('df-c0cdad0e-c880-459f-b2f5-92e80136041c')\"\n",
              "                title=\"Suggest charts\"\n",
              "                style=\"display:none;\">\n",
              "\n",
              "<svg xmlns=\"http://www.w3.org/2000/svg\" height=\"24px\"viewBox=\"0 0 24 24\"\n",
              "     width=\"24px\">\n",
              "    <g>\n",
              "        <path d=\"M19 3H5c-1.1 0-2 .9-2 2v14c0 1.1.9 2 2 2h14c1.1 0 2-.9 2-2V5c0-1.1-.9-2-2-2zM9 17H7v-7h2v7zm4 0h-2V7h2v10zm4 0h-2v-4h2v4z\"/>\n",
              "    </g>\n",
              "</svg>\n",
              "      </button>\n",
              "\n",
              "<style>\n",
              "  .colab-df-quickchart {\n",
              "      --bg-color: #E8F0FE;\n",
              "      --fill-color: #1967D2;\n",
              "      --hover-bg-color: #E2EBFA;\n",
              "      --hover-fill-color: #174EA6;\n",
              "      --disabled-fill-color: #AAA;\n",
              "      --disabled-bg-color: #DDD;\n",
              "  }\n",
              "\n",
              "  [theme=dark] .colab-df-quickchart {\n",
              "      --bg-color: #3B4455;\n",
              "      --fill-color: #D2E3FC;\n",
              "      --hover-bg-color: #434B5C;\n",
              "      --hover-fill-color: #FFFFFF;\n",
              "      --disabled-bg-color: #3B4455;\n",
              "      --disabled-fill-color: #666;\n",
              "  }\n",
              "\n",
              "  .colab-df-quickchart {\n",
              "    background-color: var(--bg-color);\n",
              "    border: none;\n",
              "    border-radius: 50%;\n",
              "    cursor: pointer;\n",
              "    display: none;\n",
              "    fill: var(--fill-color);\n",
              "    height: 32px;\n",
              "    padding: 0;\n",
              "    width: 32px;\n",
              "  }\n",
              "\n",
              "  .colab-df-quickchart:hover {\n",
              "    background-color: var(--hover-bg-color);\n",
              "    box-shadow: 0 1px 2px rgba(60, 64, 67, 0.3), 0 1px 3px 1px rgba(60, 64, 67, 0.15);\n",
              "    fill: var(--button-hover-fill-color);\n",
              "  }\n",
              "\n",
              "  .colab-df-quickchart-complete:disabled,\n",
              "  .colab-df-quickchart-complete:disabled:hover {\n",
              "    background-color: var(--disabled-bg-color);\n",
              "    fill: var(--disabled-fill-color);\n",
              "    box-shadow: none;\n",
              "  }\n",
              "\n",
              "  .colab-df-spinner {\n",
              "    border: 2px solid var(--fill-color);\n",
              "    border-color: transparent;\n",
              "    border-bottom-color: var(--fill-color);\n",
              "    animation:\n",
              "      spin 1s steps(1) infinite;\n",
              "  }\n",
              "\n",
              "  @keyframes spin {\n",
              "    0% {\n",
              "      border-color: transparent;\n",
              "      border-bottom-color: var(--fill-color);\n",
              "      border-left-color: var(--fill-color);\n",
              "    }\n",
              "    20% {\n",
              "      border-color: transparent;\n",
              "      border-left-color: var(--fill-color);\n",
              "      border-top-color: var(--fill-color);\n",
              "    }\n",
              "    30% {\n",
              "      border-color: transparent;\n",
              "      border-left-color: var(--fill-color);\n",
              "      border-top-color: var(--fill-color);\n",
              "      border-right-color: var(--fill-color);\n",
              "    }\n",
              "    40% {\n",
              "      border-color: transparent;\n",
              "      border-right-color: var(--fill-color);\n",
              "      border-top-color: var(--fill-color);\n",
              "    }\n",
              "    60% {\n",
              "      border-color: transparent;\n",
              "      border-right-color: var(--fill-color);\n",
              "    }\n",
              "    80% {\n",
              "      border-color: transparent;\n",
              "      border-right-color: var(--fill-color);\n",
              "      border-bottom-color: var(--fill-color);\n",
              "    }\n",
              "    90% {\n",
              "      border-color: transparent;\n",
              "      border-bottom-color: var(--fill-color);\n",
              "    }\n",
              "  }\n",
              "</style>\n",
              "\n",
              "      <script>\n",
              "        async function quickchart(key) {\n",
              "          const quickchartButtonEl =\n",
              "            document.querySelector('#' + key + ' button');\n",
              "          quickchartButtonEl.disabled = true;  // To prevent multiple clicks.\n",
              "          quickchartButtonEl.classList.add('colab-df-spinner');\n",
              "          try {\n",
              "            const charts = await google.colab.kernel.invokeFunction(\n",
              "                'suggestCharts', [key], {});\n",
              "          } catch (error) {\n",
              "            console.error('Error during call to suggestCharts:', error);\n",
              "          }\n",
              "          quickchartButtonEl.classList.remove('colab-df-spinner');\n",
              "          quickchartButtonEl.classList.add('colab-df-quickchart-complete');\n",
              "        }\n",
              "        (() => {\n",
              "          let quickchartButtonEl =\n",
              "            document.querySelector('#df-c0cdad0e-c880-459f-b2f5-92e80136041c button');\n",
              "          quickchartButtonEl.style.display =\n",
              "            google.colab.kernel.accessAllowed ? 'block' : 'none';\n",
              "        })();\n",
              "      </script>\n",
              "    </div>\n",
              "\n",
              "    </div>\n",
              "  </div>\n"
            ],
            "application/vnd.google.colaboratory.intrinsic+json": {
              "type": "dataframe",
              "variable_name": "loja",
              "summary": "{\n  \"name\": \"loja\",\n  \"rows\": 2359,\n  \"fields\": [\n    {\n      \"column\": \"Produto\",\n      \"properties\": {\n        \"dtype\": \"category\",\n        \"num_unique_values\": 51,\n        \"samples\": [\n          \"Viol\\u00e3o\",\n          \"Bola de basquete\",\n          \"Smartwatch\"\n        ],\n        \"semantic_type\": \"\",\n        \"description\": \"\"\n      }\n    },\n    {\n      \"column\": \"Categoria do Produto\",\n      \"properties\": {\n        \"dtype\": \"category\",\n        \"num_unique_values\": 8,\n        \"samples\": [\n          \"moveis\",\n          \"esporte e lazer\",\n          \"eletronicos\"\n        ],\n        \"semantic_type\": \"\",\n        \"description\": \"\"\n      }\n    },\n    {\n      \"column\": \"Pre\\u00e7o\",\n      \"properties\": {\n        \"dtype\": \"number\",\n        \"std\": 819.5827782539145,\n        \"min\": 10.07,\n        \"max\": 3969.38,\n        \"num_unique_values\": 2315,\n        \"samples\": [\n          446.11,\n          107.31,\n          65.86\n        ],\n        \"semantic_type\": \"\",\n        \"description\": \"\"\n      }\n    },\n    {\n      \"column\": \"Frete\",\n      \"properties\": {\n        \"dtype\": \"number\",\n        \"std\": 43.814183327408166,\n        \"min\": 0.0,\n        \"max\": 214.3770604781,\n        \"num_unique_values\": 2149,\n        \"samples\": [\n          83.815279607,\n          16.069664669,\n          14.0344876928\n        ],\n        \"semantic_type\": \"\",\n        \"description\": \"\"\n      }\n    },\n    {\n      \"column\": \"Data da Compra\",\n      \"properties\": {\n        \"dtype\": \"object\",\n        \"num_unique_values\": 1018,\n        \"samples\": [\n          \"15/09/2022\",\n          \"03/06/2020\",\n          \"06/11/2021\"\n        ],\n        \"semantic_type\": \"\",\n        \"description\": \"\"\n      }\n    },\n    {\n      \"column\": \"Vendedor\",\n      \"properties\": {\n        \"dtype\": \"category\",\n        \"num_unique_values\": 14,\n        \"samples\": [\n          \"Juliana Costa\",\n          \"Mariana Ferreira\",\n          \"Pedro Gomes\"\n        ],\n        \"semantic_type\": \"\",\n        \"description\": \"\"\n      }\n    },\n    {\n      \"column\": \"Local da compra\",\n      \"properties\": {\n        \"dtype\": \"category\",\n        \"num_unique_values\": 26,\n        \"samples\": [\n          \"TO\",\n          \"RN\",\n          \"SP\"\n        ],\n        \"semantic_type\": \"\",\n        \"description\": \"\"\n      }\n    },\n    {\n      \"column\": \"Avalia\\u00e7\\u00e3o da compra\",\n      \"properties\": {\n        \"dtype\": \"number\",\n        \"std\": 1,\n        \"min\": 1,\n        \"max\": 5,\n        \"num_unique_values\": 5,\n        \"samples\": [\n          1,\n          2,\n          5\n        ],\n        \"semantic_type\": \"\",\n        \"description\": \"\"\n      }\n    },\n    {\n      \"column\": \"Tipo de pagamento\",\n      \"properties\": {\n        \"dtype\": \"category\",\n        \"num_unique_values\": 4,\n        \"samples\": [\n          \"boleto\",\n          \"cartao_debito\",\n          \"cartao_credito\"\n        ],\n        \"semantic_type\": \"\",\n        \"description\": \"\"\n      }\n    },\n    {\n      \"column\": \"Quantidade de parcelas\",\n      \"properties\": {\n        \"dtype\": \"number\",\n        \"std\": 2,\n        \"min\": 1,\n        \"max\": 24,\n        \"num_unique_values\": 15,\n        \"samples\": [\n          7,\n          14,\n          8\n        ],\n        \"semantic_type\": \"\",\n        \"description\": \"\"\n      }\n    },\n    {\n      \"column\": \"lat\",\n      \"properties\": {\n        \"dtype\": \"number\",\n        \"std\": 5.372399916530833,\n        \"min\": -30.17,\n        \"max\": 1.41,\n        \"num_unique_values\": 26,\n        \"samples\": [\n          -9.46,\n          -5.81,\n          -22.19\n        ],\n        \"semantic_type\": \"\",\n        \"description\": \"\"\n      }\n    },\n    {\n      \"column\": \"lon\",\n      \"properties\": {\n        \"dtype\": \"number\",\n        \"std\": 4.183180020544179,\n        \"min\": -70.55,\n        \"max\": -36.59,\n        \"num_unique_values\": 26,\n        \"samples\": [\n          -48.26,\n          -36.59,\n          -48.79\n        ],\n        \"semantic_type\": \"\",\n        \"description\": \"\"\n      }\n    }\n  ]\n}"
            }
          },
          "metadata": {},
          "execution_count": 26
        }
      ],
      "source": [
        "import pandas as pd\n",
        "import matplotlib.pyplot as plt\n",
        "\n",
        "url = \"https://raw.githubusercontent.com/alura-es-cursos/challenge1-data-science/refs/heads/main/base-de-dados-challenge-1/loja_1.csv\"\n",
        "url2 = \"https://raw.githubusercontent.com/alura-es-cursos/challenge1-data-science/refs/heads/main/base-de-dados-challenge-1/loja_2.csv\"\n",
        "url3 = \"https://raw.githubusercontent.com/alura-es-cursos/challenge1-data-science/refs/heads/main/base-de-dados-challenge-1/loja_3.csv\"\n",
        "url4 = \"https://raw.githubusercontent.com/alura-es-cursos/challenge1-data-science/refs/heads/main/base-de-dados-challenge-1/loja_4.csv\"\n",
        "\n",
        "loja = pd.read_csv(url)\n",
        "loja2 = pd.read_csv(url2)\n",
        "loja3 = pd.read_csv(url3)\n",
        "loja4 = pd.read_csv(url4)\n",
        "\n",
        "loja.head()\n"
      ]
    },
    {
      "cell_type": "markdown",
      "source": [
        "#1. Análise do faturamento\n"
      ],
      "metadata": {
        "id": "X62IW3KFUIYm"
      }
    },
    {
      "cell_type": "code",
      "source": [
        "lojas = [loja, loja2, loja3, loja4]\n",
        "faturamento = 0\n",
        "fat=[]\n",
        "\n",
        "for i, df in enumerate(lojas, start=1):\n",
        "  faturamento_loja =  df['Preço'].sum()\n",
        "  faturamento += faturamento_loja\n",
        "  fat.append(faturamento_loja)\n",
        "  print(f'O faturamento da loja {i}, foi de: {faturamento_loja: ,.2f}')\n",
        "print(f'Faturamento de todas as lojas: R${faturamento:,.2f}')\n"
      ],
      "metadata": {
        "id": "KDyr8E71V3m-",
        "colab": {
          "base_uri": "https://localhost:8080/"
        },
        "outputId": "f67b1867-e44d-444e-df59-3cf50a9e374c"
      },
      "execution_count": 27,
      "outputs": [
        {
          "output_type": "stream",
          "name": "stdout",
          "text": [
            "O faturamento da loja 1, foi de:  1,534,509.12\n",
            "O faturamento da loja 2, foi de:  1,488,459.06\n",
            "O faturamento da loja 3, foi de:  1,464,025.03\n",
            "O faturamento da loja 4, foi de:  1,384,497.58\n",
            "Faturamento de todas as lojas: R$5,871,490.79\n"
          ]
        }
      ]
    },
    {
      "cell_type": "code",
      "source": [
        "nome_loja = ['loja1', 'loja2', 'loja3', 'loja4']\n",
        "cores=[\"#04395E\", \"#70A288\", \"#DAB785\", \"#D5896F\"]\n",
        "plt.figure(figsize=(7,6))\n",
        "plt.pie(fat, labels=nome_loja, autopct='%1.1f%%', colors=cores, startangle=140)\n",
        "plt.title('Faturamento por loja')\n",
        "plt.show()"
      ],
      "metadata": {
        "colab": {
          "base_uri": "https://localhost:8080/",
          "height": 521
        },
        "id": "e9pgToCc6yoy",
        "outputId": "99f57aeb-fcbd-45e9-e38c-d52fdd450d5e"
      },
      "execution_count": 28,
      "outputs": [
        {
          "output_type": "display_data",
          "data": {
            "text/plain": [
              "<Figure size 700x600 with 1 Axes>"
            ],
            "image/png": "[encoded data removed]"
          },
          "metadata": {}
        }
      ]
    },
    {
      "cell_type": "markdown",
      "source": [
        "# 2. Vendas por Categoria\n"
      ],
      "metadata": {
        "id": "2V_vcAPzWZmR"
      }
    },
    {
      "cell_type": "code",
      "source": [
        "lojas = [loja, loja2, loja3, loja4]\n",
        "categoria_geral = 0\n",
        "for i, loja in enumerate(lojas, start=1):\n",
        "    loja_categoria = loja['Categoria do Produto'].value_counts()\n",
        "    categoria_geral += loja_categoria\n",
        "    print(f'Vendas por categoria da loja {i}: \\n {loja_categoria}\\n \\n')"
      ],
      "metadata": {
        "colab": {
          "base_uri": "https://localhost:8080/"
        },
        "id": "At9kJtHrtOXy",
        "outputId": "315d4649-57cb-4f84-b559-fc8bc2d8e1f6"
      },
      "execution_count": 29,
      "outputs": [
        {
          "output_type": "stream",
          "name": "stdout",
          "text": [
            "Vendas por categoria da loja 1: \n",
            " Categoria do Produto\n",
            "moveis                   465\n",
            "eletronicos              448\n",
            "brinquedos               324\n",
            "eletrodomesticos         312\n",
            "esporte e lazer          284\n",
            "instrumentos musicais    182\n",
            "livros                   173\n",
            "utilidades domesticas    171\n",
            "Name: count, dtype: int64\n",
            " \n",
            "\n",
            "Vendas por categoria da loja 2: \n",
            " Categoria do Produto\n",
            "moveis                   442\n",
            "eletronicos              422\n",
            "brinquedos               313\n",
            "eletrodomesticos         305\n",
            "esporte e lazer          275\n",
            "instrumentos musicais    224\n",
            "livros                   197\n",
            "utilidades domesticas    181\n",
            "Name: count, dtype: int64\n",
            " \n",
            "\n",
            "Vendas por categoria da loja 3: \n",
            " Categoria do Produto\n",
            "moveis                   499\n",
            "eletronicos              451\n",
            "brinquedos               315\n",
            "eletrodomesticos         278\n",
            "esporte e lazer          277\n",
            "livros                   185\n",
            "instrumentos musicais    177\n",
            "utilidades domesticas    177\n",
            "Name: count, dtype: int64\n",
            " \n",
            "\n",
            "Vendas por categoria da loja 4: \n",
            " Categoria do Produto\n",
            "moveis                   480\n",
            "eletronicos              451\n",
            "brinquedos               338\n",
            "esporte e lazer          277\n",
            "eletrodomesticos         254\n",
            "utilidades domesticas    201\n",
            "livros                   187\n",
            "instrumentos musicais    170\n",
            "Name: count, dtype: int64\n",
            " \n",
            "\n"
          ]
        }
      ]
    },
    {
      "cell_type": "markdown",
      "source": [],
      "metadata": {
        "id": "nlfqQEm4uAVm"
      }
    },
    {
      "cell_type": "code",
      "source": [
        "print(f'A quantidade de vendas por categoria de todas lojas é como segue: \\n {categoria_geral}')"
      ],
      "metadata": {
        "colab": {
          "base_uri": "https://localhost:8080/"
        },
        "id": "1SWvTiA_gaGz",
        "outputId": "a81d0668-fb83-459c-be6f-44b1f6619fec"
      },
      "execution_count": 30,
      "outputs": [
        {
          "output_type": "stream",
          "name": "stdout",
          "text": [
            "A quantidade de vendas por categoria de todas lojas é como segue: \n",
            " Categoria do Produto\n",
            "moveis                   1886\n",
            "eletronicos              1772\n",
            "brinquedos               1290\n",
            "eletrodomesticos         1149\n",
            "esporte e lazer          1113\n",
            "instrumentos musicais     753\n",
            "livros                    742\n",
            "utilidades domesticas     730\n",
            "Name: count, dtype: int64\n"
          ]
        }
      ]
    },
    {
      "cell_type": "markdown",
      "source": [
        "# 3. Média de Avaliação das Lojas"
      ],
      "metadata": {
        "id": "Rq6tU_xSY3jk"
      }
    },
    {
      "cell_type": "code",
      "source": [
        "def calcula_media(soma, quantidade):\n",
        "    return soma / quantidade\n",
        "\n",
        "lojas = [loja, loja2, loja3, loja4]\n",
        "medias=[]\n",
        "\n",
        "for i, loja in enumerate(lojas, start=1):\n",
        "    soma = loja['Avaliação da compra'].sum()\n",
        "    quantidade = len(loja['Avaliação da compra'])\n",
        "    media = calcula_media(soma, quantidade)\n",
        "    medias.append(float(media))\n",
        "    print(f'Média da avaliação da loja {i}: {media:.2f}')\n",
        "print(medias)"
      ],
      "metadata": {
        "id": "I0KkjPoTY88F",
        "colab": {
          "base_uri": "https://localhost:8080/"
        },
        "outputId": "20c1d70d-59cc-470e-8495-53fc9345b47f"
      },
      "execution_count": 31,
      "outputs": [
        {
          "output_type": "stream",
          "name": "stdout",
          "text": [
            "Média da avaliação da loja 1: 4.00\n",
            "Média da avaliação da loja 2: 4.04\n",
            "Média da avaliação da loja 3: 4.05\n",
            "Média da avaliação da loja 4: 4.00\n",
            "[3.9957591178965224, 4.037303942348453, 4.048325561678677, 3.9957591178965224]\n"
          ]
        }
      ]
    },
    {
      "cell_type": "code",
      "source": [
        "nome_loja = ['loja1', 'loja2', 'loja3', 'loja4']\n",
        "\n",
        "plt.bar(nome_loja, medias)\n",
        "plt.xlabel('lojas')\n",
        "plt.ylabel('Média de Avaliação')\n",
        "plt.title('Média das Avaliações por Loja')\n",
        "plt.show()"
      ],
      "metadata": {
        "colab": {
          "base_uri": "https://localhost:8080/",
          "height": 472
        },
        "id": "53x6RTIMesDX",
        "outputId": "b89befff-4bda-4f93-cde8-439ce69c98df"
      },
      "execution_count": 36,
      "outputs": [
        {
          "output_type": "display_data",
          "data": {
            "text/plain": [
              "<Figure size 640x480 with 1 Axes>"
            ],
            "image/png": "[encoded data removed]"
          },
          "metadata": {}
        }
      ]
    },
    {
      "cell_type": "markdown",
      "source": [
        "# 4. Produtos Mais e Menos Vendidos"
      ],
      "metadata": {
        "id": "DmNp1KPBZCm-"
      }
    },
    {
      "cell_type": "code",
      "source": [
        "lojas = [loja, loja2, loja3, loja4]\n",
        "geral_mais = 0\n",
        "geral_menos = 0\n",
        "for i, loja in enumerate(lojas, start=1):\n",
        "    contagem = loja['Produto'].value_counts()\n",
        "    mais_vendidos = contagem.sort_values(ascending=False)\n",
        "    menos_vendidos= contagem.sort_values(ascending=True)\n",
        "    geral_menos += menos_vendidos\n",
        "    geral_mais += mais_vendidos\n",
        "    print(f'Produtos menos vendidos:\\n loja {i} \\n {menos_vendidos.head()}')\n",
        "    print('********************')\n",
        "\n",
        "    print(f'Podutos mais vendidos: \\n loja {i} \\n {mais_vendidos.head()}')\n",
        "    print('********************')\n"
      ],
      "metadata": {
        "id": "qoyjqijQZHfF",
        "colab": {
          "base_uri": "https://localhost:8080/"
        },
        "outputId": "bb61cc9f-225d-441d-94ef-adb748931c79"
      },
      "execution_count": 33,
      "outputs": [
        {
          "output_type": "stream",
          "name": "stdout",
          "text": [
            "Produtos menos vendidos:\n",
            " loja 1 \n",
            " Produto\n",
            "Guitarra                       33\n",
            "Guarda roupas                  34\n",
            "Violão                         37\n",
            "Ciência de dados com python    38\n",
            "Lavadora de roupas             38\n",
            "Name: count, dtype: int64\n",
            "********************\n",
            "Podutos mais vendidos: \n",
            " loja 1 \n",
            " Produto\n",
            "Cama box                    62\n",
            "Faqueiro                    59\n",
            "Dashboards com Power BI     56\n",
            "Cama king                   56\n",
            "Carrinho controle remoto    55\n",
            "Name: count, dtype: int64\n",
            "********************\n",
            "Produtos menos vendidos:\n",
            " loja 2 \n",
            " Produto\n",
            "Jogo de tabuleiro    32\n",
            "Mesa de jantar       34\n",
            "Impressora           34\n",
            "Poltrona             35\n",
            "Fone de ouvido       37\n",
            "Name: count, dtype: int64\n",
            "********************\n",
            "Podutos mais vendidos: \n",
            " loja 2 \n",
            " Produto\n",
            "Iniciando em programação    65\n",
            "Micro-ondas                 62\n",
            "Bateria                     61\n",
            "Violão                      58\n",
            "Pandeiro                    58\n",
            "Name: count, dtype: int64\n",
            "********************\n",
            "Produtos menos vendidos:\n",
            " loja 3 \n",
            " Produto\n",
            "Blocos de montar    35\n",
            "Micro-ondas         36\n",
            "Jogo de copos       36\n",
            "Mochila             36\n",
            "Copo térmico        38\n",
            "Name: count, dtype: int64\n",
            "********************\n",
            "Podutos mais vendidos: \n",
            " loja 3 \n",
            " Produto\n",
            "Kit banquetas      57\n",
            "Mesa de jantar     56\n",
            "Cama king          56\n",
            "Jogo de panelas    55\n",
            "Cômoda             55\n",
            "Name: count, dtype: int64\n",
            "********************\n",
            "Produtos menos vendidos:\n",
            " loja 4 \n",
            " Produto\n",
            "Guitarra                       33\n",
            "Guarda roupas                  34\n",
            "Violão                         37\n",
            "Ciência de dados com python    38\n",
            "Lavadora de roupas             38\n",
            "Name: count, dtype: int64\n",
            "********************\n",
            "Podutos mais vendidos: \n",
            " loja 4 \n",
            " Produto\n",
            "Cama box                    62\n",
            "Faqueiro                    59\n",
            "Dashboards com Power BI     56\n",
            "Cama king                   56\n",
            "Carrinho controle remoto    55\n",
            "Name: count, dtype: int64\n",
            "********************\n"
          ]
        }
      ]
    },
    {
      "cell_type": "code",
      "source": [
        "print(f'A quantidade de produtos menos vendidos de todas lojas é como segue: \\n {menos_vendidos.head()}')\n",
        "print('********************')\n",
        "\n",
        "print(f'A quantidade de produtos mais vendidos de todas lojas é como segue: \\n {mais_vendidos.head()}')\n",
        "print('********************')"
      ],
      "metadata": {
        "id": "0Sw3sd4IZIGW",
        "colab": {
          "base_uri": "https://localhost:8080/"
        },
        "outputId": "5f599085-34aa-494d-b740-f475a404928b"
      },
      "execution_count": 34,
      "outputs": [
        {
          "output_type": "stream",
          "name": "stdout",
          "text": [
            "A quantidade de produtos menos vendidos de todas lojas é como segue: \n",
            " Produto\n",
            "Guitarra                       33\n",
            "Guarda roupas                  34\n",
            "Violão                         37\n",
            "Ciência de dados com python    38\n",
            "Lavadora de roupas             38\n",
            "Name: count, dtype: int64\n",
            "********************\n",
            "A quantidade de produtos mais vendidos de todas lojas é como segue: \n",
            " Produto\n",
            "Cama box                    62\n",
            "Faqueiro                    59\n",
            "Dashboards com Power BI     56\n",
            "Cama king                   56\n",
            "Carrinho controle remoto    55\n",
            "Name: count, dtype: int64\n",
            "********************\n"
          ]
        }
      ]
    },
    {
      "cell_type": "markdown",
      "source": [
        "# 5. Frete Médio por Loja\n"
      ],
      "metadata": {
        "id": "Fl0cGi3bZKqU"
      }
    },
    {
      "cell_type": "code",
      "source": [
        "lojas = [loja, loja2, loja3, loja4]\n",
        "\n",
        "\n",
        "for i, df in enumerate(lojas, start=1):\n",
        "\n",
        "    soma_frete = df['Frete'].sum()\n",
        "    total_pedidos = df['Frete'].count()\n",
        "    frete_medio = soma_frete / total_pedidos\n",
        "\n",
        "    print(f'Frete: {soma_frete: ,.2f}  total pedidos {total_pedidos:,.2f}')\n",
        "    print(f\"🚚 Frete médio da Loja {i}: R$ {frete_medio:.2f}\")"
      ],
      "metadata": {
        "id": "S2JeaCykZNy9",
        "colab": {
          "base_uri": "https://localhost:8080/"
        },
        "outputId": "b49e7081-0194-474d-cd6c-355cdfc3acc1"
      },
      "execution_count": 35,
      "outputs": [
        {
          "output_type": "stream",
          "name": "stdout",
          "text": [
            "Frete:  73,755.88  total pedidos 2,358.00\n",
            "🚚 Frete médio da Loja 1: R$ 31.28\n",
            "Frete:  79,314.16  total pedidos 2,359.00\n",
            "🚚 Frete médio da Loja 2: R$ 33.62\n",
            "Frete:  78,022.66  total pedidos 2,359.00\n",
            "🚚 Frete médio da Loja 3: R$ 33.07\n",
            "Frete:  73,755.88  total pedidos 2,358.00\n",
            "🚚 Frete médio da Loja 4: R$ 31.28\n"
          ]
        }
      ]
    },
    {
      "cell_type": "code",
      "source": [],
      "metadata": {
        "id": "0tSdCie9ZQlt"
      },
      "execution_count": 35,
      "outputs": []
    }
  ]
}